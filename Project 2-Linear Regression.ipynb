{
 "cells": [
  {
   "cell_type": "code",
   "execution_count": null,
   "metadata": {},
   "outputs": [],
   "source": [
    "#NOTEBOOK FOR LINEAR REGRESSION"
   ]
  },
  {
   "cell_type": "code",
   "execution_count": 311,
   "metadata": {},
   "outputs": [],
   "source": [
    "%matplotlib inline\n",
    "from matplotlib import pyplot as plt\n",
    "import pandas as pd\n",
    "import numpy as np\n",
    "import statsmodels.api as sm\n",
    "import statsmodels.formula.api as smf\n",
    "from statsmodels.stats.outliers_influence import variance_inflation_factor\n",
    "from sklearn.model_selection import train_test_split\n",
    "from sklearn.linear_model import LinearRegression, Lasso, LassoCV, Ridge, RidgeCV\n",
    "from sklearn.metrics import r2_score\n",
    "from sklearn.model_selection import cross_val_score, cross_val_predict\n",
    "from sklearn.model_selection import KFold\n",
    "from sklearn import metrics\n",
    "from sklearn.preprocessing import StandardScaler, PolynomialFeatures"
   ]
  },
  {
   "cell_type": "code",
   "execution_count": 101,
   "metadata": {},
   "outputs": [],
   "source": [
    "#call in final movie csv\n",
    "\n",
    "df=pd.read_csv('final_data.csv')"
   ]
  },
  {
   "cell_type": "code",
   "execution_count": 102,
   "metadata": {
    "scrolled": true
   },
   "outputs": [
    {
     "data": {
      "text/html": [
       "<div>\n",
       "<style scoped>\n",
       "    .dataframe tbody tr th:only-of-type {\n",
       "        vertical-align: middle;\n",
       "    }\n",
       "\n",
       "    .dataframe tbody tr th {\n",
       "        vertical-align: top;\n",
       "    }\n",
       "\n",
       "    .dataframe thead th {\n",
       "        text-align: right;\n",
       "    }\n",
       "</style>\n",
       "<table border=\"1\" class=\"dataframe\">\n",
       "  <thead>\n",
       "    <tr style=\"text-align: right;\">\n",
       "      <th></th>\n",
       "      <th>Title</th>\n",
       "      <th>Dom_Gross_mil</th>\n",
       "      <th>Int_Gross_mil</th>\n",
       "      <th>Worldwide_mil</th>\n",
       "      <th>Opening_mil</th>\n",
       "      <th>Budget_mil</th>\n",
       "      <th>Rel_Date</th>\n",
       "      <th>Runtime</th>\n",
       "      <th>Genre</th>\n",
       "      <th>Rating</th>\n",
       "      <th>Rel_Month</th>\n",
       "      <th>Profit</th>\n",
       "      <th>log_opening</th>\n",
       "      <th>log_budget</th>\n",
       "      <th>log_intern</th>\n",
       "      <th>log_profit</th>\n",
       "    </tr>\n",
       "  </thead>\n",
       "  <tbody>\n",
       "    <tr>\n",
       "      <th>0</th>\n",
       "      <td>Star Wars: Episode VII - The Force Awakens (2015)</td>\n",
       "      <td>936.662225</td>\n",
       "      <td>1131.561399</td>\n",
       "      <td>2068.223624</td>\n",
       "      <td>247.966675</td>\n",
       "      <td>245.0</td>\n",
       "      <td>December 16, 2015\\n            (EMEA, APAC)</td>\n",
       "      <td>2 hr 18 min</td>\n",
       "      <td>Action\\n    \\n        Adventure\\n    \\n       ...</td>\n",
       "      <td>PG-13</td>\n",
       "      <td>December</td>\n",
       "      <td>688.695550</td>\n",
       "      <td>5.513294</td>\n",
       "      <td>5.501258</td>\n",
       "      <td>7.031354</td>\n",
       "      <td>6.534799</td>\n",
       "    </tr>\n",
       "    <tr>\n",
       "      <th>1</th>\n",
       "      <td>Avengers: Endgame (2019)</td>\n",
       "      <td>858.373000</td>\n",
       "      <td>1939.427564</td>\n",
       "      <td>2797.800564</td>\n",
       "      <td>357.115007</td>\n",
       "      <td>356.0</td>\n",
       "      <td>April 24, 2019\\n            (22 markets)</td>\n",
       "      <td>3 hr 1 min</td>\n",
       "      <td>Action\\n    \\n        Adventure\\n    \\n       ...</td>\n",
       "      <td>PG-13</td>\n",
       "      <td>April</td>\n",
       "      <td>501.257993</td>\n",
       "      <td>5.878058</td>\n",
       "      <td>5.874931</td>\n",
       "      <td>7.570148</td>\n",
       "      <td>6.217121</td>\n",
       "    </tr>\n",
       "    <tr>\n",
       "      <th>2</th>\n",
       "      <td>Avatar (2009)</td>\n",
       "      <td>760.507625</td>\n",
       "      <td>2029.931375</td>\n",
       "      <td>2790.439000</td>\n",
       "      <td>77.025481</td>\n",
       "      <td>237.0</td>\n",
       "      <td>December 16, 2009\\n            (EMEA, LATAM)</td>\n",
       "      <td>2 hr 42 min</td>\n",
       "      <td>Action\\n    \\n        Adventure\\n    \\n       ...</td>\n",
       "      <td>PG-13</td>\n",
       "      <td>December</td>\n",
       "      <td>683.482144</td>\n",
       "      <td>4.344136</td>\n",
       "      <td>5.468060</td>\n",
       "      <td>7.615757</td>\n",
       "      <td>6.527201</td>\n",
       "    </tr>\n",
       "    <tr>\n",
       "      <th>3</th>\n",
       "      <td>Titanic (1997)</td>\n",
       "      <td>659.363944</td>\n",
       "      <td>1535.075598</td>\n",
       "      <td>2194.439542</td>\n",
       "      <td>28.638131</td>\n",
       "      <td>200.0</td>\n",
       "      <td>December 18, 1997\\n            (APAC)</td>\n",
       "      <td>3 hr 14 min</td>\n",
       "      <td>Drama\\n    \\n        Romance</td>\n",
       "      <td>PG-13</td>\n",
       "      <td>December</td>\n",
       "      <td>630.725813</td>\n",
       "      <td>3.354739</td>\n",
       "      <td>5.298317</td>\n",
       "      <td>7.336335</td>\n",
       "      <td>6.446871</td>\n",
       "    </tr>\n",
       "    <tr>\n",
       "      <th>4</th>\n",
       "      <td>Jurassic World (2015)</td>\n",
       "      <td>652.270625</td>\n",
       "      <td>1018.130012</td>\n",
       "      <td>1670.400637</td>\n",
       "      <td>208.806270</td>\n",
       "      <td>150.0</td>\n",
       "      <td>June 10, 2015\\n            (9 markets)</td>\n",
       "      <td>2 hr 4 min</td>\n",
       "      <td>Action\\n    \\n        Adventure\\n    \\n       ...</td>\n",
       "      <td>PG-13</td>\n",
       "      <td>June</td>\n",
       "      <td>443.464355</td>\n",
       "      <td>5.341407</td>\n",
       "      <td>5.010635</td>\n",
       "      <td>6.925723</td>\n",
       "      <td>6.094617</td>\n",
       "    </tr>\n",
       "  </tbody>\n",
       "</table>\n",
       "</div>"
      ],
      "text/plain": [
       "                                               Title  Dom_Gross_mil  \\\n",
       "0  Star Wars: Episode VII - The Force Awakens (2015)     936.662225   \n",
       "1                           Avengers: Endgame (2019)     858.373000   \n",
       "2                                      Avatar (2009)     760.507625   \n",
       "3                                     Titanic (1997)     659.363944   \n",
       "4                              Jurassic World (2015)     652.270625   \n",
       "\n",
       "   Int_Gross_mil  Worldwide_mil  Opening_mil  Budget_mil  \\\n",
       "0    1131.561399    2068.223624   247.966675       245.0   \n",
       "1    1939.427564    2797.800564   357.115007       356.0   \n",
       "2    2029.931375    2790.439000    77.025481       237.0   \n",
       "3    1535.075598    2194.439542    28.638131       200.0   \n",
       "4    1018.130012    1670.400637   208.806270       150.0   \n",
       "\n",
       "                                       Rel_Date      Runtime  \\\n",
       "0   December 16, 2015\\n            (EMEA, APAC)  2 hr 18 min   \n",
       "1      April 24, 2019\\n            (22 markets)   3 hr 1 min   \n",
       "2  December 16, 2009\\n            (EMEA, LATAM)  2 hr 42 min   \n",
       "3         December 18, 1997\\n            (APAC)  3 hr 14 min   \n",
       "4        June 10, 2015\\n            (9 markets)   2 hr 4 min   \n",
       "\n",
       "                                               Genre Rating Rel_Month  \\\n",
       "0  Action\\n    \\n        Adventure\\n    \\n       ...  PG-13  December   \n",
       "1  Action\\n    \\n        Adventure\\n    \\n       ...  PG-13     April   \n",
       "2  Action\\n    \\n        Adventure\\n    \\n       ...  PG-13  December   \n",
       "3                       Drama\\n    \\n        Romance  PG-13  December   \n",
       "4  Action\\n    \\n        Adventure\\n    \\n       ...  PG-13      June   \n",
       "\n",
       "       Profit  log_opening  log_budget  log_intern  log_profit  \n",
       "0  688.695550     5.513294    5.501258    7.031354    6.534799  \n",
       "1  501.257993     5.878058    5.874931    7.570148    6.217121  \n",
       "2  683.482144     4.344136    5.468060    7.615757    6.527201  \n",
       "3  630.725813     3.354739    5.298317    7.336335    6.446871  \n",
       "4  443.464355     5.341407    5.010635    6.925723    6.094617  "
      ]
     },
     "execution_count": 102,
     "metadata": {},
     "output_type": "execute_result"
    }
   ],
   "source": [
    "df.head()"
   ]
  },
  {
   "cell_type": "code",
   "execution_count": 126,
   "metadata": {},
   "outputs": [
    {
     "data": {
      "text/html": [
       "<table class=\"simpletable\">\n",
       "<caption>OLS Regression Results</caption>\n",
       "<tr>\n",
       "  <th>Dep. Variable:</th>         <td>Profit</td>      <th>  R-squared:         </th> <td>   0.535</td> \n",
       "</tr>\n",
       "<tr>\n",
       "  <th>Model:</th>                   <td>OLS</td>       <th>  Adj. R-squared:    </th> <td>   0.533</td> \n",
       "</tr>\n",
       "<tr>\n",
       "  <th>Method:</th>             <td>Least Squares</td>  <th>  F-statistic:       </th> <td>   258.6</td> \n",
       "</tr>\n",
       "<tr>\n",
       "  <th>Date:</th>             <td>Wed, 15 Apr 2020</td> <th>  Prob (F-statistic):</th> <td>1.23e-111</td>\n",
       "</tr>\n",
       "<tr>\n",
       "  <th>Time:</th>                 <td>19:11:21</td>     <th>  Log-Likelihood:    </th> <td> -3666.7</td> \n",
       "</tr>\n",
       "<tr>\n",
       "  <th>No. Observations:</th>      <td>   678</td>      <th>  AIC:               </th> <td>   7341.</td> \n",
       "</tr>\n",
       "<tr>\n",
       "  <th>Df Residuals:</th>          <td>   674</td>      <th>  BIC:               </th> <td>   7359.</td> \n",
       "</tr>\n",
       "<tr>\n",
       "  <th>Df Model:</th>              <td>     3</td>      <th>                     </th>     <td> </td>    \n",
       "</tr>\n",
       "<tr>\n",
       "  <th>Covariance Type:</th>      <td>nonrobust</td>    <th>                     </th>     <td> </td>    \n",
       "</tr>\n",
       "</table>\n",
       "<table class=\"simpletable\">\n",
       "<tr>\n",
       "        <td></td>           <th>coef</th>     <th>std err</th>      <th>t</th>      <th>P>|t|</th>  <th>[0.025</th>    <th>0.975]</th>  \n",
       "</tr>\n",
       "<tr>\n",
       "  <th>Intercept</th>     <td>   82.9929</td> <td>    3.910</td> <td>   21.224</td> <td> 0.000</td> <td>   75.315</td> <td>   90.671</td>\n",
       "</tr>\n",
       "<tr>\n",
       "  <th>Int_Gross_mil</th> <td>    0.2686</td> <td>    0.014</td> <td>   19.759</td> <td> 0.000</td> <td>    0.242</td> <td>    0.295</td>\n",
       "</tr>\n",
       "<tr>\n",
       "  <th>Opening_mil</th>   <td>    0.3382</td> <td>    0.081</td> <td>    4.182</td> <td> 0.000</td> <td>    0.179</td> <td>    0.497</td>\n",
       "</tr>\n",
       "<tr>\n",
       "  <th>Budget_mil</th>    <td>   -0.3278</td> <td>    0.046</td> <td>   -7.155</td> <td> 0.000</td> <td>   -0.418</td> <td>   -0.238</td>\n",
       "</tr>\n",
       "</table>\n",
       "<table class=\"simpletable\">\n",
       "<tr>\n",
       "  <th>Omnibus:</th>       <td>188.258</td> <th>  Durbin-Watson:     </th> <td>   1.460</td> \n",
       "</tr>\n",
       "<tr>\n",
       "  <th>Prob(Omnibus):</th> <td> 0.000</td>  <th>  Jarque-Bera (JB):  </th> <td> 724.196</td> \n",
       "</tr>\n",
       "<tr>\n",
       "  <th>Skew:</th>          <td> 1.248</td>  <th>  Prob(JB):          </th> <td>5.53e-158</td>\n",
       "</tr>\n",
       "<tr>\n",
       "  <th>Kurtosis:</th>      <td> 7.405</td>  <th>  Cond. No.          </th> <td>    670.</td> \n",
       "</tr>\n",
       "</table><br/><br/>Warnings:<br/>[1] Standard Errors assume that the covariance matrix of the errors is correctly specified."
      ],
      "text/plain": [
       "<class 'statsmodels.iolib.summary.Summary'>\n",
       "\"\"\"\n",
       "                            OLS Regression Results                            \n",
       "==============================================================================\n",
       "Dep. Variable:                 Profit   R-squared:                       0.535\n",
       "Model:                            OLS   Adj. R-squared:                  0.533\n",
       "Method:                 Least Squares   F-statistic:                     258.6\n",
       "Date:                Wed, 15 Apr 2020   Prob (F-statistic):          1.23e-111\n",
       "Time:                        19:11:21   Log-Likelihood:                -3666.7\n",
       "No. Observations:                 678   AIC:                             7341.\n",
       "Df Residuals:                     674   BIC:                             7359.\n",
       "Df Model:                           3                                         \n",
       "Covariance Type:            nonrobust                                         \n",
       "=================================================================================\n",
       "                    coef    std err          t      P>|t|      [0.025      0.975]\n",
       "---------------------------------------------------------------------------------\n",
       "Intercept        82.9929      3.910     21.224      0.000      75.315      90.671\n",
       "Int_Gross_mil     0.2686      0.014     19.759      0.000       0.242       0.295\n",
       "Opening_mil       0.3382      0.081      4.182      0.000       0.179       0.497\n",
       "Budget_mil       -0.3278      0.046     -7.155      0.000      -0.418      -0.238\n",
       "==============================================================================\n",
       "Omnibus:                      188.258   Durbin-Watson:                   1.460\n",
       "Prob(Omnibus):                  0.000   Jarque-Bera (JB):              724.196\n",
       "Skew:                           1.248   Prob(JB):                    5.53e-158\n",
       "Kurtosis:                       7.405   Cond. No.                         670.\n",
       "==============================================================================\n",
       "\n",
       "Warnings:\n",
       "[1] Standard Errors assume that the covariance matrix of the errors is correctly specified.\n",
       "\"\"\""
      ]
     },
     "execution_count": 126,
     "metadata": {},
     "output_type": "execute_result"
    }
   ],
   "source": [
    "#STATSMODELS ANALYSIS-\n",
    "#includes an intercept \n",
    "lml = smf.ols('Profit ~ Int_Gross_mil + Opening_mil + Budget_mil', data=df)\n",
    "fit = lml.fit()\n",
    "fit.summary()"
   ]
  },
  {
   "cell_type": "code",
   "execution_count": null,
   "metadata": {},
   "outputs": [],
   "source": [
    "#^^P-values look okay, R-squared and adjusted R-squared are close"
   ]
  },
  {
   "cell_type": "code",
   "execution_count": 284,
   "metadata": {},
   "outputs": [],
   "source": [
    "#TRAIN_TEST_SPLIT (80/20)\n",
    "\n",
    "#CREATE TRAIN/TEST/VALIDATION SETS\n",
    "#set X and y as datasets\n",
    "X = df.loc[:,['Int_Gross_mil','Budget_mil','Opening_mil']]\n",
    "y = df['Profit']\n",
    "\n",
    "#Split data into two sections: Train+Val, Testing \n",
    "#results in 20 test, 80 training\n",
    "X, X_test, y, y_test = train_test_split(X, y, test_size=.2, random_state=20) \n"
   ]
  },
  {
   "cell_type": "code",
   "execution_count": 285,
   "metadata": {},
   "outputs": [
    {
     "name": "stdout",
     "output_type": "stream",
     "text": [
      "[0.6151717  0.24974637 0.56401701 0.43437895 0.40080921]\n",
      "0.45282464657858706\n"
     ]
    }
   ],
   "source": [
    "#CROSS VALIDATION LINEAR REGRESSION ON TRAINING DATA\n",
    "#don't need standard scaler here bc regular linear regression\n",
    "\n",
    "kf = KFold(n_splits=5, shuffle=True, random_state = 71)\n",
    "\n",
    "#Create an empty model\n",
    "#regular cross validation \n",
    "lm_cv = LinearRegression()\n",
    "\n",
    "#fit model\n",
    "lm_cv.fit(X, y)\n",
    "\n",
    "#all five values\n",
    "print(cross_val_score(lm_cv, X, y, cv=kf, scoring='r2'))\n",
    "#average of 5\n",
    "print(np.mean(cross_val_score(lm_cv, X, y, cv=kf, scoring='r2')))"
   ]
  },
  {
   "cell_type": "code",
   "execution_count": 302,
   "metadata": {},
   "outputs": [],
   "source": [
    "#CROSS VALIDATION RIDGE REGRESSION AND LASSO NEED STANDARD SCALER \n",
    "std = StandardScaler()\n",
    "std.fit(X.values)\n",
    "\n",
    "X_scaled = std.transform(X.values)\n",
    "X_test_scaled = std.transform(X_test.values)"
   ]
  },
  {
   "cell_type": "code",
   "execution_count": 296,
   "metadata": {},
   "outputs": [
    {
     "name": "stdout",
     "output_type": "stream",
     "text": [
      "0.1\n"
     ]
    }
   ],
   "source": [
    "#determine best alpha\n",
    "rm_cv = RidgeCV(alphas=[0.1, 1.0, 10.0])\n",
    "\n",
    "new_ridge=rm_cv.fit(X_scaled, y)\n",
    "best_alpha = new_ridge.alpha_\n",
    "\n",
    "print(best_alpha)"
   ]
  },
  {
   "cell_type": "code",
   "execution_count": 309,
   "metadata": {},
   "outputs": [
    {
     "name": "stdout",
     "output_type": "stream",
     "text": [
      "[0.61504816 0.24984435 0.563994   0.43452803 0.40090582]\n",
      "0.45286407294481557\n"
     ]
    }
   ],
   "source": [
    "#Ridge CV Regression\n",
    "kf = KFold(n_splits=5, shuffle=True, random_state = 71)\n",
    "RidgeCV = Ridge(alpha=0.1)\n",
    "\n",
    "#fit model\n",
    "RidgeCV.fit(X_scaled, y)\n",
    "\n",
    "#results from ridge reg cross val\n",
    "#all five values\n",
    "print(cross_val_score(RidgeCV, X_scaled, y, cv=kf, scoring='r2'))\n",
    "#average of 5\n",
    "print(np.mean(cross_val_score(RidgeCV, X_scaled, y, cv=kf, scoring='r2')))"
   ]
  },
  {
   "cell_type": "code",
   "execution_count": 312,
   "metadata": {},
   "outputs": [
    {
     "name": "stdout",
     "output_type": "stream",
     "text": [
      "0.1\n"
     ]
    }
   ],
   "source": [
    "#determine best alpha\n",
    "ls_cv = LassoCV(alphas=[0.1, 1.0, 10.0])\n",
    "\n",
    "new_lasso=ls_cv.fit(X_scaled, y)\n",
    "best_alpha = new_lasso.alpha_\n",
    "\n",
    "print(best_alpha)"
   ]
  },
  {
   "cell_type": "code",
   "execution_count": 313,
   "metadata": {},
   "outputs": [
    {
     "name": "stdout",
     "output_type": "stream",
     "text": [
      "[0.61397122 0.2511362  0.56348413 0.43523738 0.40175234]\n",
      "0.4531162541976971\n"
     ]
    }
   ],
   "source": [
    "#Lasso CV Regresion \n",
    "kf = KFold(n_splits=5, shuffle=True, random_state = 71)\n",
    "LassoCV = Lasso(alpha=0.1)\n",
    "\n",
    "#fit model\n",
    "LassoCV.fit(X_scaled, y)\n",
    "\n",
    "#results from ridge reg cross val\n",
    "#all five values\n",
    "print(cross_val_score(LassoCV, X_scaled, y, cv=kf, scoring='r2'))\n",
    "#average of 5\n",
    "print(np.mean(cross_val_score(LassoCV, X_scaled, y, cv=kf, scoring='r2')))"
   ]
  },
  {
   "cell_type": "code",
   "execution_count": null,
   "metadata": {},
   "outputs": [],
   "source": [
    "#RUN SAME MODELS WITH LOG TRANSFORMED VALUES"
   ]
  },
  {
   "cell_type": "code",
   "execution_count": 303,
   "metadata": {},
   "outputs": [],
   "source": [
    "#RUN SAME MODELS WITH LOG TRANSFORMED VALUES\n",
    "#CREATE TRAIN/TEST/VALIDATION SETS\n",
    "#set X_log and y_log as datasets\n",
    "X_log = df.loc[:,['log_intern','log_budget','log_opening']]\n",
    "y_log = df['log_profit']\n",
    "\n",
    "#Split data into two sections: Train+Val, Testing \n",
    "#results in 20 test, 80 training\n",
    "X_log, X_log_test, y_log, y_log_test = train_test_split(X_log, y_log, test_size=.2, random_state=20) "
   ]
  },
  {
   "cell_type": "code",
   "execution_count": 314,
   "metadata": {},
   "outputs": [
    {
     "name": "stdout",
     "output_type": "stream",
     "text": [
      "[ 0.37965772 -0.32453635  0.32551368  0.34681167  0.30054393]\n",
      "0.20559813121454193\n"
     ]
    }
   ],
   "source": [
    "#CROSS VALIDATION LINEAR REGRESSION ON TRAINING DATA\n",
    "#don't need standard scaler here bc regular linear regression\n",
    "\n",
    "kf = KFold(n_splits=5, shuffle=True, random_state = 71)\n",
    "\n",
    "#Create an empty model\n",
    "#regular cross validation \n",
    "lm_cv_log = LinearRegression()\n",
    "\n",
    "#fit model\n",
    "lm_cv_log.fit(X_log, y_log)\n",
    "\n",
    "#all five values\n",
    "print(cross_val_score(lm_cv_log, X_log, y_log, cv=kf, scoring='r2'))\n",
    "#average of 5\n",
    "print(np.mean(cross_val_score(lm_cv_log, X_log, y_log, cv=kf, scoring='r2')))"
   ]
  },
  {
   "cell_type": "code",
   "execution_count": 304,
   "metadata": {},
   "outputs": [],
   "source": [
    "#CROSS VALIDATION RIDGE REGRESSION AND LASSO NEED STANDARD SCALER \n",
    "\n",
    "std = StandardScaler()\n",
    "std.fit(X.values)\n",
    "\n",
    "X_log_scaled = std.transform(X_log.values)\n",
    "X_log_test_scaled = std.transform(X_log_test.values)"
   ]
  },
  {
   "cell_type": "code",
   "execution_count": 315,
   "metadata": {},
   "outputs": [
    {
     "name": "stdout",
     "output_type": "stream",
     "text": [
      "[0.05528063 0.03945912 0.02888854 0.07339345 0.05487437]\n",
      "0.05037922332908033\n"
     ]
    }
   ],
   "source": [
    "#Ridge CV Regression\n",
    "kf = KFold(n_splits=5, shuffle=True, random_state = 71)\n",
    "RidgeCV_log = Ridge(alpha=0.1)\n",
    "\n",
    "#fit model\n",
    "RidgeCV_log.fit(X_log_scaled, y_log)\n",
    "\n",
    "#results from ridge reg cross val\n",
    "#all five values\n",
    "print(cross_val_score(RidgeCV_log, X_log_scaled, y_log, cv=kf, scoring='r2'))\n",
    "#average of 5\n",
    "print(np.mean(cross_val_score(RidgeCV_log, X_log_scaled, y_log, cv=kf, scoring='r2')))"
   ]
  },
  {
   "cell_type": "code",
   "execution_count": 316,
   "metadata": {},
   "outputs": [
    {
     "name": "stdout",
     "output_type": "stream",
     "text": [
      "[-0.00928753 -0.00719695 -0.01125894 -0.00170784 -0.00197145]\n",
      "-0.0062845414384295585\n"
     ]
    }
   ],
   "source": [
    "#Lasso CV Regresion \n",
    "kf = KFold(n_splits=5, shuffle=True, random_state = 71)\n",
    "LassoCV_log = Lasso(alpha=0.1)\n",
    "\n",
    "LassoCV_log.fit(X_log_scaled, y_log)\n",
    "\n",
    "#results from ridge reg cross val\n",
    "#all five values\n",
    "print(cross_val_score(LassoCV_log, X_log_scaled, y_log, cv=kf, scoring='r2'))\n",
    "#average of 5\n",
    "print(np.mean(cross_val_score(LassoCV_log, X_log_scaled, y_log, cv=kf, scoring='r2')))"
   ]
  },
  {
   "cell_type": "code",
   "execution_count": 317,
   "metadata": {},
   "outputs": [],
   "source": [
    "#from these results, the standard features have better R-squared \n",
    "#run test set through chosen model-Lasso \n",
    "\n",
    "test_set_pred = LassoCV.predict(X_test_scaled)"
   ]
  },
  {
   "cell_type": "code",
   "execution_count": 328,
   "metadata": {},
   "outputs": [
    {
     "data": {
      "text/plain": [
       "0.5095508666763908"
      ]
     },
     "execution_count": 328,
     "metadata": {},
     "output_type": "execute_result"
    }
   ],
   "source": [
    "#r-squared\n",
    "r2_score(y_test, test_set_pred)"
   ]
  },
  {
   "cell_type": "code",
   "execution_count": 340,
   "metadata": {},
   "outputs": [
    {
     "name": "stdout",
     "output_type": "stream",
     "text": [
      "42.29684988138778\n"
     ]
    }
   ],
   "source": [
    "#Mean Absolute Error (MAE)\n",
    "def mae(y_true, y_pred):\n",
    "    return np.mean(np.abs(y_pred - y_true)) \n",
    "\n",
    "y_err=mae(y_test, test_set_pred)\n",
    "print(y_err)"
   ]
  },
  {
   "cell_type": "code",
   "execution_count": 370,
   "metadata": {},
   "outputs": [
    {
     "data": {
      "image/png": "[encoded data removed]",
      "text/plain": [
       "<Figure size 432x288 with 1 Axes>"
      ]
     },
     "metadata": {
      "needs_background": "light"
     },
     "output_type": "display_data"
    }
   ],
   "source": [
    "plt.scatter(y_test, test_set_pred, alpha=.5)\n",
    "plt.plot(np.linspace(0,600,100), np.linspace(0,600,100))\n",
    "plt.xlabel(\"Actual Revenue (mil)\")\n",
    "plt.ylabel(\"Predicted Revenue (mil)\")\n",
    "plt.title(\"Gross Domestic Revenue for Top Films (USD)\", fontsize=13)\n",
    "\n",
    "plt.savefig('Gross_Rev.png')"
   ]
  },
  {
   "cell_type": "code",
   "execution_count": null,
   "metadata": {},
   "outputs": [],
   "source": []
  }
 ],
 "metadata": {
  "kernelspec": {
   "display_name": "Python 3",
   "language": "python",
   "name": "python3"
  },
  "language_info": {
   "codemirror_mode": {
    "name": "ipython",
    "version": 3
   },
   "file_extension": ".py",
   "mimetype": "text/x-python",
   "name": "python",
   "nbconvert_exporter": "python",
   "pygments_lexer": "ipython3",
   "version": "3.7.6"
  }
 },
 "nbformat": 4,
 "nbformat_minor": 4
}
